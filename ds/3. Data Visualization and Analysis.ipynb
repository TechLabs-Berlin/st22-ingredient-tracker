{
 "cells": [
  {
   "cell_type": "markdown",
   "id": "70b83a89",
   "metadata": {},
   "source": [
    "# Ingreduce : Data Visualization and Analysis\n",
    "\n",
    "Hooray! 50,000 recipes on our web app have been viewed since its launch a couple of months ago, and we now want to analyze that data. \n",
    "\n",
    "Actually, no. It was all a dream, and we haven't launched that web app yet. Since that data doesn't actually exist, I first need to create some mock data. \n",
    "\n",
    "## Creating the mock data\n",
    "\n",
    "I'll create a dataset called `recipe_viewed` that tracks user interactions with the recipes that they have viewed. In this dataset, each record is a view of a recipe by an user, and it will have five pieces of information associated with it:\n",
    "- `recipe_id` is a unique identifier for each recipe. This is the recipe being viewed.\n",
    "- `user_id`is a unique identifier for each user. This is the user that is viewing the recipe.\n",
    "- `date` is the date of the view.\n",
    "- `duration` is the duration time of the view.\n",
    "- `is_liked` tells whether or not the recipe viewed has been liked (or unliked).\n",
    "\n",
    "This is how I'll proceed to create the dataset. First, I'll create a list of recipe ids, user ids, etc, for each variable associated with the records (except for duration which will be generated through a function). Then, if appropriate, those lists will have items that have specific distributions. Finally, the records will be created by randomly choosing the values from each list."
   ]
  },
  {
   "cell_type": "code",
   "execution_count": 1,
   "id": "c87a3435",
   "metadata": {},
   "outputs": [],
   "source": [
    "import pickle\n",
    "import pandas as pd\n",
    "import numpy as np\n",
    "from datetime import datetime, timedelta\n",
    "import random\n",
    "import matplotlib.pyplot as plt"
   ]
  },
  {
   "cell_type": "markdown",
   "id": "35c827e1",
   "metadata": {},
   "source": [
    "### Creating a list of recipe ids\n",
    "All recipes in our database have a unique identifier, which is their index number. Those numbers range from 0 to 4839. They will be our recipe ids.\n",
    "\n",
    "```Python\n",
    "num_recipes = 4840 # we have 4840 recipes in our database\n",
    "recipe_ids = [i for i in range(num_recipes)]\n",
    "```\n",
    "\n",
    "### Creating a list of user ids\n",
    "\n",
    "Let's suppose that we currently have 839 registered users. Each user is assigned a unique identifier ranging from 0 to 838.\n",
    "\n",
    "```Python\n",
    "# Creating a list of user ids.\n",
    "num_users = 839\n",
    "user_ids = [i for i in range(num_users)]\n",
    "```\n",
    "\n",
    "### Creating a list of dates\n",
    "\n",
    "First, I need to set some random data about the views. Let's say that:\n",
    "- We have launched our web app on the 2/16/2022.\n",
    "- Since then, 50,000 recipes have been viewed.\n",
    "- There has been two peaks of visits: one because of our launch campaign and the other one is due to more free time during summertime.\n",
    "- There are two daily peaks: one around 1PM and another, bigger one around 7PM.\n",
    "\n",
    "```Python\n",
    "# Adapted from but largely inspired by Michelle Ho\n",
    "# https://gist.github.com/michellemho/82f1b0300bcc2d3702db154908524151#file-datetime_fake-py\n",
    "\n",
    "num_recipes_viewed = 50000\n",
    "launch_date=datetime(2022,2,16)\n",
    "end_date=datetime.today()\n",
    "summer_peak = datetime(2022,8,5)\n",
    "campaign_peak = datetime(2022,4,15)\n",
    "\n",
    "def hour_prob(h):\n",
    "    # Peaks around 1 PM and 7 PM\n",
    "    hour_prob = np.exp(-(h - 13)**2/(2*4)) + 1.3*np.exp(-(h - 19)**2/(2*4)) + 0.05\n",
    "    return hour_prob\n",
    "\n",
    "def daily_prob(d, start_date=launch_date, end_date=end_date, summer_peak=summer_peak, campaign_peak=campaign_peak):\n",
    "    date = launch_date + timedelta(days=d)\n",
    "    date_range_domain = (end_date - launch_date).days\n",
    "\n",
    "    days_to_summer_peak = summer_peak.timetuple().tm_yday - launch_date.timetuple().tm_yday\n",
    "    days_to_campaign_peak = campaign_peak.timetuple().tm_yday - launch_date.timetuple().tm_yday\n",
    "    \n",
    "    eq_components = {}\n",
    "\n",
    "    for peak in [days_to_summer_peak, days_to_campaign_peak]:\n",
    "        counter = peak\n",
    "        year = 0\n",
    "        while counter < date_range_domain:\n",
    "            equation = np.exp(-(d - (365*year + peak))**2/(2*5000))\n",
    "            eq_components[counter+peak] = equation\n",
    "            counter += 365\n",
    "            year += 1\n",
    "    return sum(eq_components.values(),0.05)\n",
    "      \n",
    "def calc_cpd(prob, domain):\n",
    "    norm_prob = [prob(a) for a in range(domain)] / np.sum([prob(a) for a in range(domain)])\n",
    "    cpd = np.cumsum(norm_prob)\n",
    "    return cpd\n",
    "\n",
    "def sample_cpd(cpd, n_samples):\n",
    "    samples = np.random.uniform(size=n_samples)\n",
    "    return np.digitize(samples,cpd)\n",
    "  \n",
    "n_samples = num_recipes_viewed\n",
    "hours = sample_cpd(calc_cpd(hour_prob,24), n_samples)\n",
    "days = sample_cpd(calc_cpd(daily_prob,(end_date - launch_date).days), n_samples)\n",
    "list_dates = [launch_date + timedelta(hours = int(h)) + timedelta(days = int(d)) for h, d in list(zip(hours, days))]\n",
    "```\n",
    "\n",
    "### Creating a function for duration times\n",
    "\n",
    "First, let's say that:\n",
    "- We automatically log users out after 24 hours.\n",
    "- Users typically\n",
    "    - view a recipe for around 1 minute when they are uninterested by it, \n",
    "    - view it for around 6-10 minutes when they are just reading the entire recipe, \n",
    "    - and usually stay on the recipe when they are following it for until as long as it takes to make the recipe (unless they are logged out before). \n",
    "\n",
    "And the proportions for the view to fall into one of the three situations are 70, 20 and 10, respectively.\n",
    "\n",
    "So, in order to get user's view times when they are following the recipe, we need to have all recipes' total cooking times data. Currently, each recipe's total cooking time in our database is in the format of a string. Since that I am interested with cooking times in the scale of minutes, let's start by writing a function that can convert the strings into the corresponding time in minutes.\n",
    "\n",
    "Note that, since users are automatically logged out after 24 hours, we don't need to compute the recipe's total cooking time if it is over 24 hours. Instead, they will be assigned a value of 1440, which is the number of minutes in 24 hours.\n",
    "Another quirk about our recipe dataset is the presence of recipes with no total cooking time available. They will be assigned a value of 1, which is the same as if users would be uninterested by it.\n",
    "\n",
    "```Python\n",
    "def format_duration(total_time):\n",
    "    '''Returns a recipe's total cooking time in minutes. \n",
    "    If the recipe's total cooking time is over 24 hours, then it returns 1440.\n",
    "    If the recipe has no total cooking time, then it returns 1.'''\n",
    "    \n",
    "    if total_time == None:\n",
    "        duration = 1\n",
    "    \n",
    "    elif 'week' in total_time or 'day' in total_time:\n",
    "        duration = 1440\n",
    "    \n",
    "    elif 'hr' in total_time:\n",
    "        \n",
    "        hrs = int(total_time.split('hr')[0])\n",
    "        \n",
    "        splitted = total_time.split()\n",
    "        \n",
    "        for index, element in enumerate(splitted):\n",
    "            if 'min' in element:\n",
    "                min_index = index - 1\n",
    "                minutes = int(splitted[min_index])\n",
    "            else:\n",
    "                minutes = 0\n",
    "        \n",
    "        duration = hrs * 60 + minutes\n",
    "        \n",
    "    else:\n",
    "        splitted = total_time.split('min')\n",
    "        duration = int(splitted[0])\n",
    "        \n",
    "    return duration\n",
    "```\n",
    "\n",
    "Next, let's make a copy of the recipe dataset which will contain the column of the total cooking time in minutes for each recipe.\n",
    "\n",
    "```Python\n",
    "# Importing our recipe dataset\n",
    "filename = 'df_recipes'\n",
    "infile = open(filename,'rb')\n",
    "df_recipes = pickle.load(infile)\n",
    "df_recipes.set_index('index', inplace=True)\n",
    "\n",
    "# Creating a dataset with total times in minutes\n",
    "df_times = df_recipes.copy()\n",
    "\n",
    "df_times['total_minutes'] = df_times.apply(lambda row: format_duration(row['total']), axis=1)\n",
    "```\n",
    "Now we can define the function that will randomly choose between the three user behaviors within their respective probabilities, as mentioned above.\n",
    "\n",
    "```Python\n",
    "def returns_duration(recipe_id):\n",
    "\n",
    "    cooking_time = df_times.loc[recipe_id, 'total_minutes']\n",
    "\n",
    "    duration_times = [1, 6, 7, 8, 9, 10, cooking_time]\n",
    "    \n",
    "    prob = random.choices(duration_times, weights=(70,4,4,4,4,4,10), k=100)\n",
    "    \n",
    "    return random.choice(prob)\n",
    "```\n",
    "\n",
    "### Creating a list for `is_liked` column\n",
    "\n",
    "Here we define a list with one of the two user behaviors:\n",
    "- either the user has 'liked' the recipe (or hasn't removed their like), therefore the recipe is 'liked' (`True`).\n",
    "- or the user has not 'liked' the recipe (or has 'unliked' it), therefore the recipe is not 'liked' (`False`).\n",
    "\n",
    "Probabilities for this data point won't be set for now.\n",
    "\n",
    "```Python\n",
    "is_liked = [True, False]\n",
    "```\n",
    "\n",
    "### Creating the dataset\n",
    "Now let's create the DataFrame where those views will be logged.\n",
    "\n",
    "```Python\n",
    "df = pd.DataFrame({\n",
    "    'recipe_id': random.choice(recipe_ids),\n",
    "    'user_id': random.choice(user_ids),\n",
    "    'date': random.choice(list_dates),\n",
    "    'is_liked': random.choice(is_liked)\n",
    "} for i in range(num_recipes_viewed))\n",
    "```\n",
    "\n",
    "Lastly, let's create the last column of our mock dataset, `duration`, which depends on the recipe id of each record.\n",
    "\n",
    "```Python\n",
    "df['duration'] = df.apply(lambda row: returns_duration(row['recipe_id']), axis=1)\n",
    "\n",
    "# Saving our mock dataset\n",
    "filename = 'recipe_viewed'\n",
    "outfile = open(filename,'wb')\n",
    "pickle.dump(df,outfile)\n",
    "outfile.close()\n",
    "```\n",
    "Now, we're all set for the analysis!\n",
    "\n",
    "## Analysis and Visualization\n",
    "\n",
    "First, we need to import the previously created `recipe_viewed` dataset."
   ]
  },
  {
   "cell_type": "code",
   "execution_count": 2,
   "id": "1b7d37e3",
   "metadata": {},
   "outputs": [],
   "source": [
    "filename = 'recipe_viewed'\n",
    "infile = open(filename,'rb')\n",
    "recipe_viewed = pickle.load(infile)"
   ]
  },
  {
   "cell_type": "code",
   "execution_count": 3,
   "id": "383c754b",
   "metadata": {
    "scrolled": true
   },
   "outputs": [
    {
     "data": {
      "text/html": [
       "<div>\n",
       "<style scoped>\n",
       "    .dataframe tbody tr th:only-of-type {\n",
       "        vertical-align: middle;\n",
       "    }\n",
       "\n",
       "    .dataframe tbody tr th {\n",
       "        vertical-align: top;\n",
       "    }\n",
       "\n",
       "    .dataframe thead th {\n",
       "        text-align: right;\n",
       "    }\n",
       "</style>\n",
       "<table border=\"1\" class=\"dataframe\">\n",
       "  <thead>\n",
       "    <tr style=\"text-align: right;\">\n",
       "      <th></th>\n",
       "      <th>recipe_id</th>\n",
       "      <th>user_id</th>\n",
       "      <th>date</th>\n",
       "      <th>is_liked</th>\n",
       "      <th>duration</th>\n",
       "    </tr>\n",
       "  </thead>\n",
       "  <tbody>\n",
       "    <tr>\n",
       "      <th>0</th>\n",
       "      <td>186</td>\n",
       "      <td>557</td>\n",
       "      <td>2022-05-09 20:00:00</td>\n",
       "      <td>False</td>\n",
       "      <td>430</td>\n",
       "    </tr>\n",
       "    <tr>\n",
       "      <th>1</th>\n",
       "      <td>3549</td>\n",
       "      <td>93</td>\n",
       "      <td>2022-05-10 19:00:00</td>\n",
       "      <td>True</td>\n",
       "      <td>8</td>\n",
       "    </tr>\n",
       "    <tr>\n",
       "      <th>2</th>\n",
       "      <td>2872</td>\n",
       "      <td>32</td>\n",
       "      <td>2022-03-10 15:00:00</td>\n",
       "      <td>False</td>\n",
       "      <td>35</td>\n",
       "    </tr>\n",
       "    <tr>\n",
       "      <th>3</th>\n",
       "      <td>3505</td>\n",
       "      <td>629</td>\n",
       "      <td>2022-06-17 12:00:00</td>\n",
       "      <td>True</td>\n",
       "      <td>1</td>\n",
       "    </tr>\n",
       "    <tr>\n",
       "      <th>4</th>\n",
       "      <td>1842</td>\n",
       "      <td>128</td>\n",
       "      <td>2022-06-13 21:00:00</td>\n",
       "      <td>True</td>\n",
       "      <td>15</td>\n",
       "    </tr>\n",
       "    <tr>\n",
       "      <th>...</th>\n",
       "      <td>...</td>\n",
       "      <td>...</td>\n",
       "      <td>...</td>\n",
       "      <td>...</td>\n",
       "      <td>...</td>\n",
       "    </tr>\n",
       "    <tr>\n",
       "      <th>49995</th>\n",
       "      <td>2581</td>\n",
       "      <td>499</td>\n",
       "      <td>2022-02-16 15:00:00</td>\n",
       "      <td>True</td>\n",
       "      <td>1</td>\n",
       "    </tr>\n",
       "    <tr>\n",
       "      <th>49996</th>\n",
       "      <td>720</td>\n",
       "      <td>249</td>\n",
       "      <td>2022-05-11 12:00:00</td>\n",
       "      <td>False</td>\n",
       "      <td>1</td>\n",
       "    </tr>\n",
       "    <tr>\n",
       "      <th>49997</th>\n",
       "      <td>1280</td>\n",
       "      <td>308</td>\n",
       "      <td>2022-06-17 16:00:00</td>\n",
       "      <td>True</td>\n",
       "      <td>1</td>\n",
       "    </tr>\n",
       "    <tr>\n",
       "      <th>49998</th>\n",
       "      <td>4208</td>\n",
       "      <td>641</td>\n",
       "      <td>2022-04-17 17:00:00</td>\n",
       "      <td>False</td>\n",
       "      <td>1</td>\n",
       "    </tr>\n",
       "    <tr>\n",
       "      <th>49999</th>\n",
       "      <td>3521</td>\n",
       "      <td>494</td>\n",
       "      <td>2022-03-11 12:00:00</td>\n",
       "      <td>True</td>\n",
       "      <td>8</td>\n",
       "    </tr>\n",
       "  </tbody>\n",
       "</table>\n",
       "<p>50000 rows × 5 columns</p>\n",
       "</div>"
      ],
      "text/plain": [
       "       recipe_id  user_id                date  is_liked  duration\n",
       "0            186      557 2022-05-09 20:00:00     False       430\n",
       "1           3549       93 2022-05-10 19:00:00      True         8\n",
       "2           2872       32 2022-03-10 15:00:00     False        35\n",
       "3           3505      629 2022-06-17 12:00:00      True         1\n",
       "4           1842      128 2022-06-13 21:00:00      True        15\n",
       "...          ...      ...                 ...       ...       ...\n",
       "49995       2581      499 2022-02-16 15:00:00      True         1\n",
       "49996        720      249 2022-05-11 12:00:00     False         1\n",
       "49997       1280      308 2022-06-17 16:00:00      True         1\n",
       "49998       4208      641 2022-04-17 17:00:00     False         1\n",
       "49999       3521      494 2022-03-11 12:00:00      True         8\n",
       "\n",
       "[50000 rows x 5 columns]"
      ]
     },
     "execution_count": 3,
     "metadata": {},
     "output_type": "execute_result"
    }
   ],
   "source": [
    "df = recipe_viewed.copy()\n",
    "df"
   ]
  },
  {
   "cell_type": "markdown",
   "id": "05d16cc2",
   "metadata": {},
   "source": [
    "As a start, we can have a look at the number of recipes viewed overtime."
   ]
  },
  {
   "cell_type": "code",
   "execution_count": 38,
   "id": "d736fba2",
   "metadata": {},
   "outputs": [
    {
     "data": {
      "text/plain": [
       "(2022-03-27 00:30:00, 2022-04-03 19:36:00]              3077\n",
       "(2022-04-19 09:48:00, 2022-04-27 04:54:00]              3063\n",
       "(2022-04-27 04:54:00, 2022-05-05]                       3013\n",
       "(2022-04-03 19:36:00, 2022-04-11 14:42:00]              2985\n",
       "(2022-05-05, 2022-05-12 19:06:00]                       2969\n",
       "(2022-04-11 14:42:00, 2022-04-19 09:48:00]              2961\n",
       "(2022-03-19 05:24:00, 2022-03-27 00:30:00]              2935\n",
       "(2022-05-12 19:06:00, 2022-05-20 14:12:00]              2747\n",
       "(2022-03-11 10:18:00, 2022-03-19 05:24:00]              2727\n",
       "(2022-03-03 15:12:00, 2022-03-11 10:18:00]              2612\n",
       "(2022-05-20 14:12:00, 2022-05-28 09:18:00]              2592\n",
       "(2022-05-28 09:18:00, 2022-06-05 04:24:00]              2508\n",
       "(2022-02-23 20:06:00, 2022-03-03 15:12:00]              2436\n",
       "(2022-02-15 21:15:28.799999999, 2022-02-23 20:06:00]    2356\n",
       "(2022-06-05 04:24:00, 2022-06-12 23:30:00]              2342\n",
       "(2022-06-12 23:30:00, 2022-06-20 18:36:00]              2088\n",
       "(2022-06-20 18:36:00, 2022-06-28 13:42:00]              1910\n",
       "(2022-06-28 13:42:00, 2022-07-06 08:48:00]              1655\n",
       "(2022-07-06 08:48:00, 2022-07-14 03:54:00]              1625\n",
       "(2022-07-14 03:54:00, 2022-07-21 23:00:00]              1399\n",
       "Name: date, dtype: int64"
      ]
     },
     "execution_count": 38,
     "metadata": {},
     "output_type": "execute_result"
    }
   ],
   "source": [
    "# Frequency table of date\n",
    "ft_date = df['date'].value_counts(bins=20)\n",
    "ft_date"
   ]
  },
  {
   "cell_type": "markdown",
   "id": "906d4d0a",
   "metadata": {},
   "source": [
    "Here we can see the number of views for each of the 20 time periods. Each period corresponds approximatively to a week's time. There has been noticeably less and less views over time. Is it because our users don't like our recipes? Let's explore this possibility.\n",
    "\n",
    "### Do our users like our recipes?\n",
    "\n",
    "#### How many recipes do our users like?\n",
    "\n",
    "First, let's find the number of recipes liked over time. To do so, first, we need to find the number of recipes each day. Then, we can plot it."
   ]
  },
  {
   "cell_type": "code",
   "execution_count": 4,
   "id": "6414fb41",
   "metadata": {},
   "outputs": [],
   "source": [
    "def all_likes_todate(df, date):\n",
    "    '''Returns a list of tuples of recipes still liked on a given day and the user who liked it. '''\n",
    "    \n",
    "    likes_list = []\n",
    "    \n",
    "    filt = (df['date'] < date)\n",
    "    df = df.loc[filt]\n",
    "    \n",
    "    for idx,row in df.iterrows():\n",
    "        user = df.loc[idx, 'user_id']\n",
    "        recipe = df.loc[idx, 'recipe_id']\n",
    "        like_tuple = (user, recipe)\n",
    "        \n",
    "        if df.loc[idx, 'is_liked'] == True:\n",
    "            likes_list.append(like_tuple)\n",
    "        \n",
    "        if df.loc[idx, 'is_liked'] == False:\n",
    "            if like_tuple in likes_list:\n",
    "                likes_list.remove(like_tuple)            \n",
    "    \n",
    "    return likes_list"
   ]
  },
  {
   "cell_type": "code",
   "execution_count": 17,
   "id": "c7297063",
   "metadata": {},
   "outputs": [],
   "source": [
    "all_likes = all_likes_todate(df_chron, datetime(2022,7,22))"
   ]
  },
  {
   "cell_type": "code",
   "execution_count": 5,
   "id": "a13fabbe",
   "metadata": {},
   "outputs": [],
   "source": [
    "def recipes_liked_todate(date, df):\n",
    "    '''Returns the list of recipes still liked on a given day.'''\n",
    "    \n",
    "    num_recipes_liked = []\n",
    "    \n",
    "    likes_list = all_likes_todate(df, date)\n",
    "\n",
    "    for like_tuple in likes_list:\n",
    "        recipe = like_tuple[1]\n",
    "        if recipe not in num_recipes_liked:\n",
    "            num_recipes_liked.append(recipe)\n",
    "            \n",
    "    return num_recipes_liked"
   ]
  },
  {
   "cell_type": "code",
   "execution_count": 8,
   "id": "e5b71a11",
   "metadata": {},
   "outputs": [],
   "source": [
    "def num_liked_todate(date, df):\n",
    "    '''Returns the number of recipes still liked on a given day. '''\n",
    "    likes_list = all_likes_todate(df, date)\n",
    "    num_recipes_liked = recipes_liked_todate(date, df, likes_list)\n",
    "    return len(num_recipes_liked)"
   ]
  },
  {
   "cell_type": "markdown",
   "id": "f4ae8e5f",
   "metadata": {},
   "source": [
    "We need to have the dataset in chronological order for the functions to work. So, let's do this!"
   ]
  },
  {
   "cell_type": "code",
   "execution_count": 7,
   "id": "2e2bab44",
   "metadata": {},
   "outputs": [
    {
     "data": {
      "text/html": [
       "<div>\n",
       "<style scoped>\n",
       "    .dataframe tbody tr th:only-of-type {\n",
       "        vertical-align: middle;\n",
       "    }\n",
       "\n",
       "    .dataframe tbody tr th {\n",
       "        vertical-align: top;\n",
       "    }\n",
       "\n",
       "    .dataframe thead th {\n",
       "        text-align: right;\n",
       "    }\n",
       "</style>\n",
       "<table border=\"1\" class=\"dataframe\">\n",
       "  <thead>\n",
       "    <tr style=\"text-align: right;\">\n",
       "      <th></th>\n",
       "      <th>index</th>\n",
       "      <th>recipe_id</th>\n",
       "      <th>user_id</th>\n",
       "      <th>date</th>\n",
       "      <th>is_liked</th>\n",
       "      <th>duration</th>\n",
       "    </tr>\n",
       "  </thead>\n",
       "  <tbody>\n",
       "    <tr>\n",
       "      <th>0</th>\n",
       "      <td>5253</td>\n",
       "      <td>2600</td>\n",
       "      <td>18</td>\n",
       "      <td>2022-02-16 01:00:00</td>\n",
       "      <td>False</td>\n",
       "      <td>232</td>\n",
       "    </tr>\n",
       "    <tr>\n",
       "      <th>1</th>\n",
       "      <td>8778</td>\n",
       "      <td>4075</td>\n",
       "      <td>101</td>\n",
       "      <td>2022-02-16 01:00:00</td>\n",
       "      <td>False</td>\n",
       "      <td>10</td>\n",
       "    </tr>\n",
       "    <tr>\n",
       "      <th>2</th>\n",
       "      <td>33986</td>\n",
       "      <td>1706</td>\n",
       "      <td>669</td>\n",
       "      <td>2022-02-16 02:00:00</td>\n",
       "      <td>False</td>\n",
       "      <td>1</td>\n",
       "    </tr>\n",
       "    <tr>\n",
       "      <th>3</th>\n",
       "      <td>18572</td>\n",
       "      <td>3371</td>\n",
       "      <td>432</td>\n",
       "      <td>2022-02-16 02:00:00</td>\n",
       "      <td>False</td>\n",
       "      <td>1</td>\n",
       "    </tr>\n",
       "    <tr>\n",
       "      <th>4</th>\n",
       "      <td>30855</td>\n",
       "      <td>1711</td>\n",
       "      <td>337</td>\n",
       "      <td>2022-02-16 02:00:00</td>\n",
       "      <td>False</td>\n",
       "      <td>8</td>\n",
       "    </tr>\n",
       "    <tr>\n",
       "      <th>...</th>\n",
       "      <td>...</td>\n",
       "      <td>...</td>\n",
       "      <td>...</td>\n",
       "      <td>...</td>\n",
       "      <td>...</td>\n",
       "      <td>...</td>\n",
       "    </tr>\n",
       "    <tr>\n",
       "      <th>49995</th>\n",
       "      <td>40576</td>\n",
       "      <td>4179</td>\n",
       "      <td>252</td>\n",
       "      <td>2022-07-21 22:00:00</td>\n",
       "      <td>False</td>\n",
       "      <td>1</td>\n",
       "    </tr>\n",
       "    <tr>\n",
       "      <th>49996</th>\n",
       "      <td>20113</td>\n",
       "      <td>3900</td>\n",
       "      <td>700</td>\n",
       "      <td>2022-07-21 22:00:00</td>\n",
       "      <td>True</td>\n",
       "      <td>1</td>\n",
       "    </tr>\n",
       "    <tr>\n",
       "      <th>49997</th>\n",
       "      <td>21208</td>\n",
       "      <td>2869</td>\n",
       "      <td>746</td>\n",
       "      <td>2022-07-21 22:00:00</td>\n",
       "      <td>True</td>\n",
       "      <td>1</td>\n",
       "    </tr>\n",
       "    <tr>\n",
       "      <th>49998</th>\n",
       "      <td>5112</td>\n",
       "      <td>3284</td>\n",
       "      <td>162</td>\n",
       "      <td>2022-07-21 22:00:00</td>\n",
       "      <td>False</td>\n",
       "      <td>1</td>\n",
       "    </tr>\n",
       "    <tr>\n",
       "      <th>49999</th>\n",
       "      <td>3683</td>\n",
       "      <td>2817</td>\n",
       "      <td>503</td>\n",
       "      <td>2022-07-21 23:00:00</td>\n",
       "      <td>True</td>\n",
       "      <td>1</td>\n",
       "    </tr>\n",
       "  </tbody>\n",
       "</table>\n",
       "<p>50000 rows × 6 columns</p>\n",
       "</div>"
      ],
      "text/plain": [
       "       index  recipe_id  user_id                date  is_liked  duration\n",
       "0       5253       2600       18 2022-02-16 01:00:00     False       232\n",
       "1       8778       4075      101 2022-02-16 01:00:00     False        10\n",
       "2      33986       1706      669 2022-02-16 02:00:00     False         1\n",
       "3      18572       3371      432 2022-02-16 02:00:00     False         1\n",
       "4      30855       1711      337 2022-02-16 02:00:00     False         8\n",
       "...      ...        ...      ...                 ...       ...       ...\n",
       "49995  40576       4179      252 2022-07-21 22:00:00     False         1\n",
       "49996  20113       3900      700 2022-07-21 22:00:00      True         1\n",
       "49997  21208       2869      746 2022-07-21 22:00:00      True         1\n",
       "49998   5112       3284      162 2022-07-21 22:00:00     False         1\n",
       "49999   3683       2817      503 2022-07-21 23:00:00      True         1\n",
       "\n",
       "[50000 rows x 6 columns]"
      ]
     },
     "execution_count": 7,
     "metadata": {},
     "output_type": "execute_result"
    }
   ],
   "source": [
    "df_chron = df.copy().sort_values('date', ascending = True).reset_index()\n",
    "df_chron"
   ]
  },
  {
   "cell_type": "markdown",
   "id": "0878f06f",
   "metadata": {},
   "source": [
    "Now we can generate the two lists of values for the graph."
   ]
  },
  {
   "cell_type": "code",
   "execution_count": 10,
   "id": "ac08287e",
   "metadata": {},
   "outputs": [],
   "source": [
    "liked_overtime = []\n",
    "dates = []\n",
    "\n",
    "# Getting a list of dates between the launch and 'end' dates\n",
    "\n",
    "launch_date=datetime(2022,2,16)\n",
    "end_date=datetime(2022,7,21)\n",
    "\n",
    "def daterange(start, end):\n",
    "    for n in range(int ((end - start).days)+1):\n",
    "        yield start + timedelta(n)\n",
    "    \n",
    "# Generating the lists\n",
    "\n",
    "for dt in daterange(launch_date, end_date):\n",
    "    nbr_liked = num_liked_todate(dt, df_chron)\n",
    "    liked_overtime.append(nbr_liked)\n",
    "    dates.append(dt)"
   ]
  },
  {
   "cell_type": "code",
   "execution_count": 11,
   "id": "c857f26b",
   "metadata": {
    "scrolled": false
   },
   "outputs": [
    {
     "data": {
      "image/png": "[encoded data removed]",
      "text/plain": [
       "<Figure size 432x288 with 1 Axes>"
      ]
     },
     "metadata": {
      "needs_background": "light"
     },
     "output_type": "display_data"
    }
   ],
   "source": [
    "x = dates\n",
    "y = liked_overtime\n",
    "plt.plot(x, y)\n",
    "plt.show()"
   ]
  },
  {
   "cell_type": "code",
   "execution_count": 13,
   "id": "bb649962",
   "metadata": {},
   "outputs": [
    {
     "data": {
      "text/plain": [
       "4813"
      ]
     },
     "execution_count": 13,
     "metadata": {},
     "output_type": "execute_result"
    }
   ],
   "source": [
    "liked_overtime[-1]"
   ]
  },
  {
   "cell_type": "markdown",
   "id": "76af0989",
   "metadata": {},
   "source": [
    "To this date, 4813 recipes have been liked by at least one user over the 4840 recipes available on our web app. We may assume that the recipe selection for our web app was good, or at least, good enough so that almost all have been liked by our users.\n",
    "\n",
    "But are they equally popular with all users? Let's find out.\n",
    "\n",
    "#### Are all recipes equally liked?"
   ]
  },
  {
   "cell_type": "code",
   "execution_count": 25,
   "id": "a245f5fc",
   "metadata": {},
   "outputs": [
    {
     "data": {
      "text/plain": [
       "num_likes\n",
       "5            845\n",
       "4            833\n",
       "6            708\n",
       "3            624\n",
       "7            519\n",
       "2            400\n",
       "8            353\n",
       "9            202\n",
       "1            143\n",
       "10           117\n",
       "11            38\n",
       "13            15\n",
       "12            14\n",
       "15             2\n",
       "dtype: int64"
      ]
     },
     "execution_count": 25,
     "metadata": {},
     "output_type": "execute_result"
    }
   ],
   "source": [
    "def most_liked_recipes(likes_list):\n",
    "    \n",
    "    likes_per_recipe = {}\n",
    "    \n",
    "    for like_tuple in likes_list:\n",
    "        recipe = like_tuple[1]\n",
    "        likes_per_recipe[recipe] = likes_per_recipe.get(recipe, 0) + 1\n",
    "    \n",
    "    most_liked_df = pd.DataFrame.from_dict(likes_per_recipe, orient='index', columns=['num_likes'])\n",
    "    \n",
    "    return most_liked_df.sort_values(by='num_likes', ascending=False)\n",
    "\n",
    "most_liked_recipes(all_likes).value_counts()"
   ]
  },
  {
   "cell_type": "markdown",
   "id": "e55bbbaf",
   "metadata": {},
   "source": [
    "Now we can see that, although a lot of recipes on our web app were liked, most recipes have in between 4 and 6 likes. And each recipe has at most 15 likes.\n",
    "\n",
    "#### Does a recipe's visibility play a role in whether or not it is 'liked'?\n",
    "\n",
    "Are the most liked recipes the most viewed and vice-versa? If so, simple 'exposure' (or lack thereof) could explain the contrast of the popularity of recipes."
   ]
  },
  {
   "cell_type": "code",
   "execution_count": 26,
   "id": "2bfc03f2",
   "metadata": {},
   "outputs": [],
   "source": [
    "def num_viewed_recipes(df, date):\n",
    "    \n",
    "    viewed_recipes = []\n",
    "    \n",
    "    filt = (df['date'] < date)\n",
    "    df = df.loc[filt]\n",
    "    \n",
    "    for idx,row in df.iterrows():\n",
    "        user = df.loc[idx, 'user_id']\n",
    "        recipe = df.loc[idx, 'recipe_id']\n",
    "        view_tuple = (user, recipe)\n",
    "        viewed_recipes.append(view_tuple)\n",
    "    \n",
    "    return len(set(viewed_recipes))"
   ]
  },
  {
   "cell_type": "code",
   "execution_count": 28,
   "id": "49d2ae9e",
   "metadata": {},
   "outputs": [],
   "source": [
    "viewed_overtime = []\n",
    "\n",
    "for dt in daterange(launch_date, end_date):\n",
    "    nbr_viewed = num_viewed_recipes(df_chron, dt)\n",
    "    viewed_overtime.append(nbr_viewed)"
   ]
  },
  {
   "cell_type": "code",
   "execution_count": 29,
   "id": "e55c9710",
   "metadata": {
    "scrolled": false
   },
   "outputs": [
    {
     "data": {
      "image/png": "[encoded data removed]",
      "text/plain": [
       "<Figure size 432x288 with 1 Axes>"
      ]
     },
     "metadata": {
      "needs_background": "light"
     },
     "output_type": "display_data"
    }
   ],
   "source": [
    "x = liked_overtime\n",
    "y = viewed_overtime\n",
    "plt.plot(x, y)\n",
    "plt.show()"
   ]
  },
  {
   "cell_type": "code",
   "execution_count": 30,
   "id": "87a56a34",
   "metadata": {
    "scrolled": false
   },
   "outputs": [
    {
     "data": {
      "text/plain": [
       "1374    23\n",
       "2596    23\n",
       "107     23\n",
       "2902    23\n",
       "78      22\n",
       "        ..\n",
       "3258     2\n",
       "362      2\n",
       "1962     2\n",
       "3288     1\n",
       "2047     1\n",
       "Name: recipe_id, Length: 4840, dtype: int64"
      ]
     },
     "execution_count": 30,
     "metadata": {},
     "output_type": "execute_result"
    }
   ],
   "source": [
    "# Frequency table of recipe_id\n",
    "ft_recipe = df['recipe_id'].value_counts()\n",
    "ft_recipe"
   ]
  },
  {
   "cell_type": "markdown",
   "id": "c9888271",
   "metadata": {},
   "source": [
    "This is the number of views per recipes."
   ]
  },
  {
   "cell_type": "code",
   "execution_count": 34,
   "id": "f46d989c",
   "metadata": {},
   "outputs": [
    {
     "name": "stdout",
     "output_type": "stream",
     "text": [
      "Recipes have been viewed at most by 23 users.\n",
      "Recipes have been viewed by least 1 user.\n",
      "Recipes have been viewed by 10.330578512396695 users, on average.\n"
     ]
    }
   ],
   "source": [
    "print('Recipes have been viewed at most by', ft_recipe.max(), 'users.')\n",
    "print('Recipes have been viewed by least', ft_recipe.min(), 'user.')\n",
    "print('Recipes have been viewed by', ft_recipe.mean(), 'users, on average.')"
   ]
  },
  {
   "cell_type": "markdown",
   "id": "4feb2f57",
   "metadata": {},
   "source": [
    "Since recipes have been viewed at most by 23 users, this explains why there are so few likes on the recipes. The view-likes graph above shows that a recipe's visibility does increase its 'like' likelihood.\n",
    "\n",
    "#### How many recipes have each user viewed?"
   ]
  },
  {
   "cell_type": "code",
   "execution_count": 35,
   "id": "2f625e7f",
   "metadata": {
    "scrolled": true
   },
   "outputs": [
    {
     "data": {
      "text/plain": [
       "438    85\n",
       "405    84\n",
       "266    83\n",
       "742    83\n",
       "71     81\n",
       "       ..\n",
       "520    40\n",
       "641    38\n",
       "696    37\n",
       "174    36\n",
       "330    35\n",
       "Name: user_id, Length: 839, dtype: int64"
      ]
     },
     "execution_count": 35,
     "metadata": {},
     "output_type": "execute_result"
    }
   ],
   "source": [
    "# Frequency table of user_id\n",
    "ft_user = df['user_id'].value_counts()\n",
    "ft_user"
   ]
  },
  {
   "cell_type": "markdown",
   "id": "c6d1a0c3",
   "metadata": {},
   "source": [
    "Here we can see the number of views per user. Note that they may have viewed the same recipe(s) multiple times."
   ]
  },
  {
   "cell_type": "code",
   "execution_count": 37,
   "id": "6133b349",
   "metadata": {},
   "outputs": [
    {
     "name": "stdout",
     "output_type": "stream",
     "text": [
      "Users have viewed at most 85 recipes.\n",
      "Users have viewed at least 35 recipes.\n",
      "Users have viewed 59.594755661501786 recipes on average.\n"
     ]
    }
   ],
   "source": [
    "print('Users have viewed at most', ft_user.max(), 'recipes.')\n",
    "print('Users have viewed at least', ft_user.min(), 'recipes.')\n",
    "print('Users have viewed', ft_user.mean(), 'recipes on average.')"
   ]
  },
  {
   "cell_type": "markdown",
   "id": "3e64b80d",
   "metadata": {},
   "source": [
    "Now, a less alarming picture is painted. Let's summarize all we've learned so far. Views are dropping but all recipes have been liked by at least one user. While each recipe has a low like percentage when taking into account the number of users that we have on the web app, this seems to be explained by the number of recipes that the users have been. In fact, it seems like the more views, the more likely a recipe may be liked.\n",
    "\n",
    "As a conclusion, there are less views either because users have found satisfaction with the recipes that they have liked, or there is another (bad) reason which I haven't found yet..."
   ]
  }
 ],
 "metadata": {
  "kernelspec": {
   "display_name": "Python 3 (ipykernel)",
   "language": "python",
   "name": "python3"
  },
  "language_info": {
   "codemirror_mode": {
    "name": "ipython",
    "version": 3
   },
   "file_extension": ".py",
   "mimetype": "text/x-python",
   "name": "python",
   "nbconvert_exporter": "python",
   "pygments_lexer": "ipython3",
   "version": "3.9.7"
  },
  "toc": {
   "base_numbering": 1,
   "nav_menu": {},
   "number_sections": true,
   "sideBar": true,
   "skip_h1_title": false,
   "title_cell": "Table of Contents",
   "title_sidebar": "Contents",
   "toc_cell": false,
   "toc_position": {},
   "toc_section_display": true,
   "toc_window_display": false
  }
 },
 "nbformat": 4,
 "nbformat_minor": 5
}
